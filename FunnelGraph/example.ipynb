{
 "cells": [
  {
   "cell_type": "code",
   "execution_count": null,
   "metadata": {},
   "outputs": [],
   "source": [
    "import matplotlib.pyplot as plt\n",
    "from src.funel_graph import FunelGraph\n",
    "colors = [\n",
    "    ['#C33764', '#1BFFFF'],['#FBB03B', '#D4145A'],\n",
    "    ['#FCEE21', '#009245'],['#1BFFFF', '#e05153'],\n",
    "    ['#009245', '#FCEE21']\n",
    "    ]\n",
    "\n",
    "fg = FunelGraph()\n",
    "fg.prepare()\n",
    "fg.draw(colors=colors, apply_colorQ=True)\n",
    "plt.savefig('data\\example.png')\n",
    "plt.show()"
   ]
  }
 ],
 "metadata": {
  "kernelspec": {
   "display_name": "ray310",
   "language": "python",
   "name": "python3"
  },
  "language_info": {
   "codemirror_mode": {
    "name": "ipython",
    "version": 3
   },
   "file_extension": ".py",
   "mimetype": "text/x-python",
   "name": "python",
   "nbconvert_exporter": "python",
   "pygments_lexer": "ipython3",
   "version": "3.10.12"
  }
 },
 "nbformat": 4,
 "nbformat_minor": 2
}
